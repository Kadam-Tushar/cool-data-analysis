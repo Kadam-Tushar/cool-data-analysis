{
 "cells": [
  {
   "cell_type": "markdown",
   "id": "27db4a29",
   "metadata": {},
   "source": [
    "### Imports"
   ]
  },
  {
   "cell_type": "code",
   "execution_count": 1,
   "id": "dc80a6fd",
   "metadata": {},
   "outputs": [],
   "source": [
    "import pandas as pd \n",
    "import numpy as np "
   ]
  },
  {
   "cell_type": "markdown",
   "id": "1ef396b6",
   "metadata": {},
   "source": [
    "### Paths and Reading data"
   ]
  },
  {
   "cell_type": "code",
   "execution_count": 2,
   "id": "416d1c6d",
   "metadata": {},
   "outputs": [],
   "source": [
    "path = \"./death_row_inmates_Texas.csv\""
   ]
  },
  {
   "cell_type": "code",
   "execution_count": 9,
   "id": "ca1957f3",
   "metadata": {},
   "outputs": [],
   "source": [
    "df = pd.read_csv(path)"
   ]
  },
  {
   "cell_type": "code",
   "execution_count": 10,
   "id": "17bb185e",
   "metadata": {},
   "outputs": [
    {
     "data": {
      "text/html": [
       "<div>\n",
       "<style scoped>\n",
       "    .dataframe tbody tr th:only-of-type {\n",
       "        vertical-align: middle;\n",
       "    }\n",
       "\n",
       "    .dataframe tbody tr th {\n",
       "        vertical-align: top;\n",
       "    }\n",
       "\n",
       "    .dataframe thead th {\n",
       "        text-align: right;\n",
       "    }\n",
       "</style>\n",
       "<table border=\"1\" class=\"dataframe\">\n",
       "  <thead>\n",
       "    <tr style=\"text-align: right;\">\n",
       "      <th></th>\n",
       "      <th>Execution</th>\n",
       "      <th>Last Name</th>\n",
       "      <th>First Name</th>\n",
       "      <th>TDCJNumber</th>\n",
       "      <th>Age</th>\n",
       "      <th>Date</th>\n",
       "      <th>Race</th>\n",
       "      <th>County</th>\n",
       "      <th>Last Statement</th>\n",
       "    </tr>\n",
       "  </thead>\n",
       "  <tbody>\n",
       "    <tr>\n",
       "      <th>0</th>\n",
       "      <td>570</td>\n",
       "      <td>Wardlow</td>\n",
       "      <td>Billy</td>\n",
       "      <td>999137</td>\n",
       "      <td>45</td>\n",
       "      <td>7/8/2020</td>\n",
       "      <td>White</td>\n",
       "      <td>Titus</td>\n",
       "      <td>decline</td>\n",
       "    </tr>\n",
       "    <tr>\n",
       "      <th>1</th>\n",
       "      <td>569</td>\n",
       "      <td>Ochoa</td>\n",
       "      <td>Abel</td>\n",
       "      <td>999450</td>\n",
       "      <td>47</td>\n",
       "      <td>2/6/2020</td>\n",
       "      <td>Hispanic</td>\n",
       "      <td>Dallas</td>\n",
       "      <td>Yes sir. I  would like to thank God, my dad, m...</td>\n",
       "    </tr>\n",
       "    <tr>\n",
       "      <th>2</th>\n",
       "      <td>568</td>\n",
       "      <td>Gardner</td>\n",
       "      <td>John</td>\n",
       "      <td>999516</td>\n",
       "      <td>64</td>\n",
       "      <td>1/15/2020</td>\n",
       "      <td>White</td>\n",
       "      <td>Collin</td>\n",
       "      <td>Thank you thank you  where's the family, ok I ...</td>\n",
       "    </tr>\n",
       "    <tr>\n",
       "      <th>3</th>\n",
       "      <td>567</td>\n",
       "      <td>Runnels</td>\n",
       "      <td>Travis</td>\n",
       "      <td>999505</td>\n",
       "      <td>46</td>\n",
       "      <td>12/11/2019</td>\n",
       "      <td>Black</td>\n",
       "      <td>Potter</td>\n",
       "      <td>decline</td>\n",
       "    </tr>\n",
       "    <tr>\n",
       "      <th>4</th>\n",
       "      <td>566</td>\n",
       "      <td>Hall</td>\n",
       "      <td>Justen</td>\n",
       "      <td>999497</td>\n",
       "      <td>38</td>\n",
       "      <td>11/6/2019</td>\n",
       "      <td>White</td>\n",
       "      <td>El Paso</td>\n",
       "      <td>Yeah, I want to  address the Roundtree family ...</td>\n",
       "    </tr>\n",
       "  </tbody>\n",
       "</table>\n",
       "</div>"
      ],
      "text/plain": [
       "   Execution Last Name First Name  TDCJNumber  Age        Date      Race  \\\n",
       "0        570   Wardlow      Billy      999137   45    7/8/2020     White   \n",
       "1        569     Ochoa       Abel      999450   47    2/6/2020  Hispanic   \n",
       "2        568   Gardner       John      999516   64   1/15/2020     White   \n",
       "3        567   Runnels     Travis      999505   46  12/11/2019     Black   \n",
       "4        566      Hall     Justen      999497   38   11/6/2019     White   \n",
       "\n",
       "    County                                     Last Statement  \n",
       "0    Titus                                            decline  \n",
       "1   Dallas  Yes sir. I  would like to thank God, my dad, m...  \n",
       "2   Collin  Thank you thank you  where's the family, ok I ...  \n",
       "3   Potter                                            decline  \n",
       "4  El Paso  Yeah, I want to  address the Roundtree family ...  "
      ]
     },
     "execution_count": 10,
     "metadata": {},
     "output_type": "execute_result"
    }
   ],
   "source": [
    "df.head()"
   ]
  },
  {
   "cell_type": "markdown",
   "id": "f069dcf6",
   "metadata": {},
   "source": [
    "### Overall stats\n"
   ]
  },
  {
   "cell_type": "code",
   "execution_count": 11,
   "id": "1609d8bd",
   "metadata": {},
   "outputs": [
    {
     "name": "stdout",
     "output_type": "stream",
     "text": [
      "Total number of statements  569\n"
     ]
    }
   ],
   "source": [
    "print(\"Total number of statements \",len(df))"
   ]
  },
  {
   "cell_type": "code",
   "execution_count": null,
   "id": "4f7be0d9",
   "metadata": {},
   "outputs": [],
   "source": []
  }
 ],
 "metadata": {
  "kernelspec": {
   "display_name": "Python 3 (ipykernel)",
   "language": "python",
   "name": "python3"
  },
  "language_info": {
   "codemirror_mode": {
    "name": "ipython",
    "version": 3
   },
   "file_extension": ".py",
   "mimetype": "text/x-python",
   "name": "python",
   "nbconvert_exporter": "python",
   "pygments_lexer": "ipython3",
   "version": "3.9.21"
  }
 },
 "nbformat": 4,
 "nbformat_minor": 5
}
